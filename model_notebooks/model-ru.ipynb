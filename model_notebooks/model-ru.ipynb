{
 "cells": [
  {
   "cell_type": "code",
   "execution_count": 1,
   "metadata": {},
   "outputs": [],
   "source": [
    "import numpy as np\n",
    "import pandas as pd\n",
    "import re\n",
    "import nltk\n",
    "import matplotlib.pyplot as plt\n",
    "import configparser\n",
    "import logging\n",
    "from logging import Formatter\n",
    "from logging.handlers import RotatingFileHandler"
   ]
  },
  {
   "cell_type": "code",
   "execution_count": 8,
   "metadata": {
    "pycharm": {
     "name": "#%%\n"
    }
   },
   "outputs": [
    {
     "data": {
      "image/png": "[encoded data removed]",
      "text/plain": [
       "<Figure size 720x504 with 1 Axes>"
      ]
     },
     "metadata": {},
     "output_type": "display_data"
    }
   ],
   "source": [
    "\n",
    "import matplotlib.pyplot as plt\n",
    "import pandas as pd\n",
    "df =  pd.read_csv(\"C:/Users/krezn/PycharmProjects/NLPHelper/datasets/final_ru.csv\")\n",
    "df[\"etag\"].value_counts()\n",
    "negative = 951\n",
    "positive = 670\n",
    "neutral = 854\n",
    "# Import libraries\n",
    "from matplotlib import pyplot as plt\n",
    "import numpy as np\n",
    "\n",
    "cars = ['positive 670 комментариев', 'negative 951 комментариев', 'neutral 854 комментариев']\n",
    "data_array = [positive, negative, neutral]\n",
    "# Creating plot\n",
    "fig = plt.figure(figsize=(10, 7))\n",
    "plt.pie(data_array, labels=cars)\n",
    "plt.title('Статистика восприятия видео:')\n",
    "plt.savefig('visual.png')"
   ]
  },
  {
   "cell_type": "code",
   "execution_count": 3,
   "metadata": {
    "pycharm": {
     "name": "#%%\n"
    }
   },
   "outputs": [
    {
     "data": {
      "image/png": "[encoded data removed]",
      "text/plain": [
       "<Figure size 576x432 with 1 Axes>"
      ]
     },
     "metadata": {
      "needs_background": "light"
     },
     "output_type": "display_data"
    }
   ],
   "source": [
    "import seaborn as sns\n",
    "sns.barplot(x='airline_sentiment', y='airline_sentiment_confidence' , data=airline_tweets)\n",
    "features = airline_tweets.iloc[:, 10].values\n",
    "labels = airline_tweets.iloc[:, 1].values\n",
    "processed_features = []\n",
    "\n",
    "for sentence in range(0, len(features)):\n",
    "    # Remove all the special characters\n",
    "    processed_feature = re.sub(r'\\W', ' ', str(features[sentence]))\n",
    "    # remove all single characters\n",
    "    processed_feature= re.sub(r'\\s+[a-zA-Z]\\s+', ' ', processed_feature)\n",
    "    # Remove single characters from the start\n",
    "    processed_feature = re.sub(r'\\^[a-zA-Z]\\s+', ' ', processed_feature)\n",
    "    # Substituting multiple spaces with single space\n",
    "    processed_feature = re.sub(r'\\s+', ' ', processed_feature, flags=re.I)\n",
    "    # Removing prefixed 'b'\n",
    "    processed_feature = re.sub(r'^b\\s+', '', processed_feature)\n",
    "    # Converting to Lowercase\n",
    "    processed_feature = processed_feature.lower()\n",
    "    processed_features.append(processed_feature)"
   ]
  },
  {
   "cell_type": "code",
   "execution_count": 4,
   "metadata": {
    "pycharm": {
     "name": "#%%\n"
    }
   },
   "outputs": [],
   "source": [
    "with open('/Users/19459820/PycharmProjects/NLPHelper/stopwords/english', 'r') as fp:\n",
    "    # считываем сразу весь файл\n",
    "    data = list(fp.read())"
   ]
  },
  {
   "cell_type": "code",
   "execution_count": 5,
   "metadata": {
    "pycharm": {
     "name": "#%%\n"
    }
   },
   "outputs": [],
   "source": [
    "from sklearn.feature_extraction.text import TfidfVectorizer\n",
    "\n",
    "vectorizer = TfidfVectorizer ( min_df=1, max_df=0.8, stop_words=data)\n",
    "processed_features = vectorizer.fit_transform(processed_features).toarray()\n"
   ]
  },
  {
   "cell_type": "code",
   "execution_count": 6,
   "metadata": {
    "pycharm": {
     "name": "#%%\n"
    }
   },
   "outputs": [],
   "source": [
    "from sklearn.model_selection import train_test_split\n",
    "\n",
    "X_train, X_test, y_train, y_test = train_test_split(processed_features, labels, test_size=0.2, random_state=0)"
   ]
  },
  {
   "cell_type": "code",
   "execution_count": 7,
   "metadata": {
    "pycharm": {
     "name": "#%%\n"
    }
   },
   "outputs": [
    {
     "data": {
      "text/plain": [
       "RandomForestClassifier(random_state=0)"
      ]
     },
     "execution_count": 7,
     "metadata": {},
     "output_type": "execute_result"
    }
   ],
   "source": [
    "from sklearn.ensemble import RandomForestClassifier\n",
    "\n",
    "text_classifier = RandomForestClassifier(n_estimators=100, random_state=0)\n",
    "text_classifier.fit(X_train, y_train)"
   ]
  },
  {
   "cell_type": "code",
   "execution_count": 8,
   "metadata": {
    "pycharm": {
     "name": "#%%\n"
    }
   },
   "outputs": [],
   "source": [
    "predictions = text_classifier.predict(X_test)"
   ]
  },
  {
   "cell_type": "code",
   "execution_count": 9,
   "metadata": {
    "pycharm": {
     "name": "#%%\n"
    }
   },
   "outputs": [
    {
     "name": "stdout",
     "output_type": "stream",
     "text": [
      "[[1796   63   11]\n",
      " [ 355  237   22]\n",
      " [ 232   50  162]]\n",
      "              precision    recall  f1-score   support\n",
      "\n",
      "    negative       0.75      0.96      0.84      1870\n",
      "     neutral       0.68      0.39      0.49       614\n",
      "    positive       0.83      0.36      0.51       444\n",
      "\n",
      "    accuracy                           0.75      2928\n",
      "   macro avg       0.75      0.57      0.61      2928\n",
      "weighted avg       0.75      0.75      0.72      2928\n",
      "\n",
      "0.7496584699453552\n"
     ]
    }
   ],
   "source": [
    "from sklearn.metrics import classification_report, confusion_matrix, accuracy_score\n",
    "\n",
    "print(confusion_matrix(y_test,predictions))\n",
    "print(classification_report(y_test,predictions))\n",
    "print(accuracy_score(y_test, predictions))"
   ]
  },
  {
   "cell_type": "code",
   "execution_count": 10,
   "metadata": {
    "pycharm": {
     "name": "#%%\n"
    }
   },
   "outputs": [
    {
     "data": {
      "text/plain": [
       "['finalized_model.sav']"
      ]
     },
     "execution_count": 10,
     "metadata": {},
     "output_type": "execute_result"
    }
   ],
   "source": [
    "import joblib\n",
    "filename = 'finalized_model.sav'\n",
    "joblib.dump(text_classifier, filename)"
   ]
  },
  {
   "cell_type": "code",
   "execution_count": 173,
   "metadata": {
    "pycharm": {
     "name": "#%%\n"
    }
   },
   "outputs": [
    {
     "name": "stdout",
     "output_type": "stream",
     "text": [
      "0.7513661202185792\n"
     ]
    }
   ],
   "source": [
    "loaded_model = joblib.load(filename)\n",
    "result = loaded_model.score(X_test, y_test)\n",
    "print(result)"
   ]
  },
  {
   "cell_type": "code",
   "execution_count": 271,
   "metadata": {
    "pycharm": {
     "name": "#%%\n"
    }
   },
   "outputs": [
    {
     "name": "stdout",
     "output_type": "stream",
     "text": [
      "['where did you get your background it is nice though', 'i 39 just starting mern full stack but man 39 feeling like code camp is throwing me warp speed into new learning modules ', 'you rock beau thanks again keep up the great work ', 'are mobile apps open to these same vulnerabilities ', 'i just started to learning thnx lot for sharing knowledge ', 'bitcoin mining using read only docker container ', 'very cool please create more videos on security', 'hi thanks for sharing the knowledge and for this course ', 'thanks for you video nice ', 'please make video on mean stack for 10 to 15 hours with multiple big projexts', 'ty 4 making this wish for more advanced follow up to this', 'after flirting with the idea of entering this space 39 ve always felt the need to learn the techniques used to build better solutions in fact this is what crippled me when ever given the idea of pursuing development know keep it simple and readable but because of how think and function just couldn 39 let this go to chance my code needs to be at least somewhat secure or its just going to require rewriting can 39 wait to see what he does next my guy 39 love to ask for path generally ask for direction only but in this case with this much material could really use plan br recently took an interview with an unnamed company that am ecstatic about and also ready to jump into devops role where would like to bring security to the forefront ', 'hacking step 1 buy hoodie and have monitors scan the globe ', 'nice explanation but it will be more useful if you implement secops using open source tools ', 'we need more', 'please guide me how to get real time experience on devops without working in company to get job', ' lt 3 you folks respect _ _ ', 'beau looking like hacker today ', 'omg exactly what needed br del cliklink the new videos sex del my 18 photos he re href https ok me otfy gb hdrcam e7 a7 81 e3 81 ae e3 83 8c e3 83 bc e3 83 89 e3 82 bb e3 83 83 e3 82 af e3 82 b9 https ok me otfy gb hdrcam私のヌードセックス トップavビデオに参加する br br br ライブ配信の再編ありがとうです この日のライブ配信は かならりやばかったですね １万人を超える人が見ていたもんね 笑 やっぱり人参最高 まさかのカメラ切り忘れでやら1かしたのもドキドキでした 今後は気を付けないとね br href http www youtube com results search_query 23 e4 bb 8a e5 be 8c e3 81 af e6 b0 97 e3 82 92 e3 83 a9 e3 82 a4 e3 83 96 e9 85 8d e4 bf a1 e3 81 ae e5 86 8d e7 b7 a8 e3 81 82 e3 82 8a e3 81 8c e3 81 a8 e3 81 86 e3 81 a7 e3 81 99 今後は気をライブ配信の再編ありがとうです a href http www youtube com results search_query 23 e3 81 93 e3 81 ae e6 97 a5 e3 81 ae e3 83 a9 e3 82 a4 e3 83 96 e9 85 8d e4 bf a1 e3 81 af この日のライブ配信は a href http www youtube com results search_query 23 e3 81 8b e3 81 aa e3 82 89 e3 82 8a e3 82 84 e3 81 b0 e3 81 8b e3 81 a3 e3 81 9f e3 81 a7 e3 81 99 e3 81 ad かならりやばかったですね a href http www youtube com results search_query 231 e4 b8 87 e4 ba ba e3 82 92 e8 b6 85 e3 81 88 e3 82 8b e4 ba ba e3 81 8c e8 a6 8b e3 81 a6 e3 81 84 e3 81 9f e3 82 82 １万人を超える人が見ていたも br ん href http www youtube com results search_query 23 e7 ac 91 笑 a href http www youtube com results search_query 23 e3 82 84 e3 81 a3 e3 81 b1 e3 82 8a e4 ba ba e5 8f 82 e6 9c 80 e9 ab 98 やっぱり人参最高 a href http www youtube com results search_query 23 e3 81 be e3 81 95 e3 81 8b e3 81 ae e3 82 ab e3 83 a1 e3 83 a9 e5 88 87 e3 82 8a e5 bf 98 e3 82 8c e3 81 a7 e3 82 84 e3 82 891 e3 81 8b e3 81 97 e3 81 9f e3 81 ae e3 82 82 e3 83 89 e3 82 ad e3 83 89 e3 82 ad e3 81 a7 e3 81 97 e3 81 9f まさかのカメラ切り忘れでやら1かしたのもドキドキでした br href http www youtube com results search_query 23 e4 bb 8a e5 be 8c e3 81 af e6 b0 97 e3 82 92 e3 83 a9 e3 82 a4 e3 83 96 e9 85 8d e4 bf a1 e3 81 ae e5 86 8d e7 b7 a8 e3 81 82 e3 82 8a e3 81 8c e3 81 a8 e3 81 86 e3 81 a7 e3 81 99 今後は気をライブ配信の再編ありがとうです a href http www youtube com results search_query 23 e3 81 93 e3 81 ae e6 97 a5 e3 81 ae e3 83 a9 e3 82 a4 e3 83 96 e9 85 8d e4 bf a1 e3 81 af この日のライブ配信は w href http www youtube com results search_query 23 e3 81 8b e3 81 aa e3 82 89 e3 82 8a e3 82 84 e3 81 b0 e3 81 8b e3 81 a3 e3 81 9f e3 81 a7 e3 81 99 e3 81 ad かならりやばかったですね br href http www youtube com results search_query 231 e4 b8 87 e4 ba ba e3 82 92 e8 b6 85 e3 81 88 e3 82 8b e4 ba ba e3 81 8c e8 a6 8b e3 81 a6 e3 81 84 e3 81 9f e3 82 82 e3 82 93 １万人を超える人が見ていたもん a href http www youtube com results search_query 23 e7 ac 91 笑 a href http www youtube com results search_query 23 e3 82 84 e3 81 a3 e3 81 b1 e3 82 8a e4 ba ba e5 8f 82 e6 9c 80 e9 ab 98 やっぱり人参最高 br href http www youtube com results search_query 23 e3 81 be e3 81 95 e3 81 8b e3 81 ae e3 82 ab e3 83 a1 e3 83 a9 e5 88 87 e3 82 8a e5 bf 98 e3 82 8c e3 81 a7 e3 82 84 e3 82 891 e3 81 8b e3 81 97 e3 81 9f e3 81 ae e3 82 82 e3 83 89 e3 82 ad e3 83 89 e3 82 ad e3 81 a7 e3 81 97 e3 81 9f まさかのカメラ切り忘れでやら1かしたのもドキドキでした a href http www youtube com results search_query 23 e5 9e 83 e5 9c bew 垃圾w a href http www youtube com results search_query 23 e5 86 8d e7 b7 a8 e3 81 82 e3 82 8a e3 81 8c e3 81 a8 e3 81 86 e3 81 a7 e3 81 99 再編ありがとうです a href http www youtube com results search_query 23 e3 81 84 e3 81 9f e3 82 82 e3 82 93 いたもん a href http www youtube com results search_query 23 e7 ac 91 笑 在整個人類歷史上 強者 富人和具有狡猾特質的人捕食部落 氏族 城鎮 城市和鄉村中的弱者 無 39 守和貧窮成員 然而 人類的生存意願迫使那sfdsd些被拒絕 被剝奪或摧毀的基本需求的人們找到了一種生活方式 並繼續將其dna融入不斷發展的人類社會 說到食物 不要以為那些被拒絕的人只吃垃圾 相反 他們學會了在被忽視的肉類和蔬菜中尋找營養 他們學會了清潔 切塊 調味和慢燉慢燉的野菜和肉類 在食品 ', 'future job title devsecops ceo manager investor janitor gardner ', 'i think that web app 39 security is often ignored when developing an app or introducing new features really enjoyed 39 exploying vulnerabilities 39 part of the vide thanks for sharing your knowledge ', 'you can definitely read my mind ', 'you look like hackerman haha', 'this man seems so smart have followed him to finish mern stack project but he keeps posting new tutorial video how could he learn so fast ', 'i am finding it totally hilarious this went live so close to the oracle vulnerability ', 'finding targets is the main issue used to have great scanner for finding exploitable machines called xscan but its too old now all the good scanners these days always cost lots of money or scan very few machines when you need to scan ranges ', 'nice backround ', 'thanks ', 'is there any react js landing page for business website with basic css ', 'i understand less then 10 but it 39 so cool watching these people talk', 'excellent ', 'i wish every single security related video on youtube didnt involves hoodie with the hood up', 'hello br am involved in problem can any one help me br want to make browser have learnt and as beigner programmer br anyone can guide me how and from where start to build browser br which things need to learn which things are required to make browser', 'thanks for the early christmas present ', 'bad quality content as usual 1h28 to install amp run snyk br doing devsecops as security engineer is to automate fxcking everything not just use snyk it 39 not course for beginners it 39 a course for neophytes ', 'latest case log4j vulnerability', 'log4j', 'hoodie up that boy ain playing', 'all the best', 'saved for later ', 'uncle you and your team is awesome thanks man very good ', 'can we have android dev videos', 'guys m qa automation engineer wanted to learn and shift to devops could you please do video on this and help us too many courses on youtube', 'haha beau using hood is very convenient for this subject ', 'good but we need full videos', 'awesome as usual ', ' that 39 what was looking for ', 'i think they thought of this after log4j disaster lol', 'we need more ', 'watching href https www youtube com watch f5kjvuii0yw amp 0m15s 0 15 ', '21st view and 1st comment ', ' rosgori thank you so much', 'also you can look at how firefox is built', 'just for learning experience or as product for others to learn if the second option you should base it off of chomium most browsers are based on chomium ', ' ', 'here is good devops video href https www youtube com watch j5zsa_eoxey https www youtube com watch j5zsa_eoxey ']\n"
     ]
    }
   ],
   "source": [
    "test_url = \"/Users/19459820/PycharmProjects/NLPHelper/youtuberesults-ru-1.csv\"\n",
    "airline_tweets = pd.read_csv(test_url)\n",
    "features = airline_tweets.iloc[:, 3].values\n",
    "\n",
    "test_features = []\n",
    "\n",
    "for sentence in range(0, len(features)):\n",
    "    # Remove all the special characters\n",
    "    test_feature = re.sub(r'\\W', ' ', str(features[sentence]))\n",
    "    # remove all single characters\n",
    "    test_feature= re.sub(r'\\s+[a-zA-Z]\\s+', ' ', test_feature)\n",
    "    # Remove single characters from the start\n",
    "    test_feature = re.sub(r'\\^[a-zA-Z]\\s+', ' ', test_feature)\n",
    "    # Substituting multiple spaces with single space\n",
    "    test_feature = re.sub(r'\\s+', ' ', test_feature, flags=re.I)\n",
    "    # Removing prefixed 'b'\n",
    "    test_feature = re.sub(r'^b\\s+', '', test_feature)\n",
    "    # Converting to Lowercase\n",
    "    test_feature = test_feature.lower()\n",
    "    test_features.append(test_feature)\n",
    "\n",
    "print(test_features)"
   ]
  },
  {
   "cell_type": "code",
   "execution_count": 272,
   "metadata": {
    "pycharm": {
     "name": "#%%\n"
    }
   },
   "outputs": [],
   "source": [
    "test_features = vectorizer.transform(test_features).toarray()"
   ]
  },
  {
   "cell_type": "code",
   "execution_count": 273,
   "metadata": {
    "pycharm": {
     "name": "#%%\n"
    }
   },
   "outputs": [],
   "source": [
    "predictions = loaded_model.predict(test_features)"
   ]
  },
  {
   "cell_type": "code",
   "execution_count": 274,
   "metadata": {
    "pycharm": {
     "name": "#%%\n"
    }
   },
   "outputs": [
    {
     "name": "stdout",
     "output_type": "stream",
     "text": [
      "['negative' 'negative' 'positive' 'neutral' 'negative' 'neutral'\n",
      " 'negative' 'positive' 'positive' 'negative' 'negative' 'negative'\n",
      " 'negative' 'negative' 'neutral' 'negative' 'negative' 'neutral' 'neutral'\n",
      " 'neutral' 'negative' 'negative' 'positive' 'negative' 'negative'\n",
      " 'negative' 'neutral' 'positive' 'negative' 'negative' 'neutral'\n",
      " 'negative' 'negative' 'positive' 'negative' 'neutral' 'neutral'\n",
      " 'negative' 'positive' 'neutral' 'positive' 'negative' 'negative'\n",
      " 'negative' 'negative' 'positive' 'neutral' 'negative' 'neutral' 'neutral'\n",
      " 'negative' 'positive' 'negative' 'negative' 'neutral' 'negative']\n"
     ]
    }
   ],
   "source": [
    "print(predictions)"
   ]
  },
  {
   "cell_type": "code",
   "execution_count": 253,
   "metadata": {
    "pycharm": {
     "name": "#%%\n"
    }
   },
   "outputs": [
    {
     "name": "stdout",
     "output_type": "stream",
     "text": [
      "['thanks lot', 'thanks for the amazing video is part two out ', 'hi guys great tutorial thanks for sharing it with us am not sure why this is happening but on the morphological analysis the token2 morph gives type error typeerror _repr_ returned non string type list anyone can explain to me why this is happening am using google colab thank you in advance', 'google colab has an old version of spacy br br do this br br pip install spacy 3 0 1 br import spacy br python spacy download en_core_web_sm', 'i can 39 believe such good content is for free thank you ', 'i am trying to find the files the instructor is using where are they cannot find any link to download them', 'thank you for this fantastic video here 39 one question from vscode user display render doc2 style 39 dep 39 has no reaction tried to find solutions on stack overflow but failed anyone can help many thanks ', 'so what happened to br quot neuro linguistic programming quot ', 'best helpline for those who really want to learn', 'this video is very useful for me thanks for always bringing the great video mad respect from me', 'future viewers that have ocd beware quot print quot will be written many times br p', 'everyone seemed to be asking for part 2 but this coverage is good enough so good that don 39 think it deserved part 2 otherwise large part is going to be lots of repetition will keep exploring deeper based on this video itself ', 'there are also lot of other resources available and free if have time to go through href https course spacy io en https course spacy io en ', 'this is an amazing explanation of nlp thanku so much sir waiting for part 2', 'repo with dataset href https github com wjbmattingly freecodecamp_spacy tree main data https github com wjbmattingly freecodecamp_spacy tree main data ', 'love the work you are doing many thanks from india', 'hi and thank you very much for your tutorial really enjoyed it and looking forward to the second part of the tutorial', 'thank you very much for making this video want to create my own corpus to analyze data but as newbie to python found it really hard to start without clear direction looking forward to part 2 ', 'thabk sooo much ', 'great video', 'what should do if have long text and want to find word like denver broncos and want to know the four most similar words to it like say carolina panthers or jaguars or some other team ']\n"
     ]
    }
   ],
   "source": [
    "test_features = []\n",
    "\n",
    "for sentence in range(0, len(comment_payload)):\n",
    "    # Remove all the special characters\n",
    "    test_feature = re.sub(r'\\W', ' ', str(comment_payload[sentence]))\n",
    "    # remove all single characters\n",
    "    test_feature= re.sub(r'\\s+[a-zA-Z]\\s+', ' ', test_feature)\n",
    "    # Remove single characters from the start\n",
    "    test_feature = re.sub(r'\\^[a-zA-Z]\\s+', ' ', test_feature)\n",
    "    # Substituting multiple spaces with single space\n",
    "    test_feature = re.sub(r'\\s+', ' ', test_feature, flags=re.I)\n",
    "    # Removing prefixed 'b'\n",
    "    test_feature = re.sub(r'^b\\s+', '', test_feature)\n",
    "    # Converting to Lowercase\n",
    "    test_feature = test_feature.lower()\n",
    "    test_features.append(test_feature)\n",
    "\n",
    "print(test_features)"
   ]
  },
  {
   "cell_type": "code",
   "execution_count": 254,
   "metadata": {
    "pycharm": {
     "name": "#%%\n"
    }
   },
   "outputs": [],
   "source": [
    "test_features = vectorizer.transform(test_features).toarray()"
   ]
  },
  {
   "cell_type": "code",
   "execution_count": 255,
   "metadata": {
    "pycharm": {
     "name": "#%%\n"
    }
   },
   "outputs": [],
   "source": [
    "predictions = loaded_model.predict(test_features)"
   ]
  },
  {
   "cell_type": "code",
   "execution_count": 280,
   "metadata": {
    "pycharm": {
     "name": "#%%\n"
    }
   },
   "outputs": [
    {
     "name": "stdout",
     "output_type": "stream",
     "text": [
      "10\n",
      "31\n",
      "15\n"
     ]
    }
   ],
   "source": [
    "predictions = list(predictions)\n",
    "pos_count = predictions.count('positive')\n",
    "neg_count = predictions.count('negative')\n",
    "neu_count = predictions.count('neutral')\n",
    "print(pos_count)\n",
    "print(neg_count)\n",
    "print(neu_count)"
   ]
  },
  {
   "cell_type": "code",
   "execution_count": 277,
   "metadata": {
    "pycharm": {
     "name": "#%%\n"
    }
   },
   "outputs": [
    {
     "name": "stdout",
     "output_type": "stream",
     "text": [
      "ZFqlHhCNBOI\n"
     ]
    }
   ],
   "source": [
    "youtube_url = 'http://www.youtube.com/watch?v=ZFqlHhCNBOI'\n",
    "\n",
    "regex = re.compile(r'(https?://)?(www\\.)?(youtube|youtu|youtube-nocookie)\\.(com|be)/(watch\\?v=|embed/|v/|.+\\?v=)?(?P<id>[A-Za-z0-9\\-=_]{11})')\n",
    "\n",
    "match = regex.match(youtube_url)\n",
    "\n",
    "if not match:\n",
    "    print('no match')\n",
    "print(match.group('id'))"
   ]
  },
  {
   "cell_type": "code",
   "execution_count": null,
   "metadata": {
    "pycharm": {
     "name": "#%%\n"
    }
   },
   "outputs": [],
   "source": []
  }
 ],
 "metadata": {
  "kernelspec": {
   "display_name": "Python 3 (ipykernel)",
   "language": "python",
   "name": "python3"
  },
  "language_info": {
   "codemirror_mode": {
    "name": "ipython",
    "version": 3
   },
   "file_extension": ".py",
   "mimetype": "text/x-python",
   "name": "python",
   "nbconvert_exporter": "python",
   "pygments_lexer": "ipython3",
   "version": "3.10.1"
  }
 },
 "nbformat": 4,
 "nbformat_minor": 1
}
